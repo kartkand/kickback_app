{
 "cells": [
  {
   "cell_type": "code",
   "execution_count": 7,
   "metadata": {},
   "outputs": [],
   "source": [
    "import json\n",
    "from random import randint"
   ]
  },
  {
   "cell_type": "code",
   "execution_count": 2,
   "metadata": {},
   "outputs": [],
   "source": [
    "with open(\"result.json\") as f:\n",
    "    data = json.load(f)"
   ]
  },
  {
   "cell_type": "code",
   "execution_count": 4,
   "metadata": {},
   "outputs": [],
   "source": [
    "def prev_space(idx, inp_str):\n",
    "    for i in range(idx, -1, -1):\n",
    "        if inp_str[i] == ' ':\n",
    "            return i\n",
    "    return 0"
   ]
  },
  {
   "cell_type": "code",
   "execution_count": 12,
   "metadata": {},
   "outputs": [],
   "source": [
    "for deal in data:\n",
    "    if '%' in deal[\"description\"] and 'up to' in deal[\"description\"].lower():\n",
    "        estimate = {\n",
    "            \"type\": 'PO',\n",
    "        }\n",
    "        starting_idx = deal[\"description\"].find('%')\n",
    "        estimate[\"amt\"] = float(deal[\"description\"][prev_space(starting_idx, deal[\"description\"]):starting_idx])\n",
    "        deal[\"deal_estimate\"] = estimate"
   ]
  },
  {
   "cell_type": "code",
   "execution_count": 14,
   "metadata": {},
   "outputs": [],
   "source": [
    "with open('result.json', 'w') as fp:\n",
    "    json.dump(data, fp)"
   ]
  },
  {
   "cell_type": "code",
   "execution_count": 1,
   "metadata": {},
   "outputs": [],
   "source": [
    "cats = [\"Michaels Stores\", \"Tractor Supply Co.\", \"Royal Ahold / Ahold USA\", \"Darden Restaurants\", \"Wal-Mart\", \"Dollar General\", \"Dillard's\", \"Stater Bros. Holdings\", \"GameStop\", \"WakeFern / ShopRite\", \"Wendy's\", \"Menard\", \"Delhaize America\", \"Office Depot\", \"WinCo Foods\", \"Signet Jewelers\", \"Alimentation Couche-Tard\", \"Belk\", \"Price Chopper Supermarkets\", \"AVB Brandsource\", \"Big Lots\", \"BJ's Wholesale Club\", \"Lowe's \", \"A&P\", \"Defense Commissary Agency\", \"Bi-Lo\", \"Kohl's\", \"DineEquity\", \"Best Buy\", \"QVC\", \"Hudson's Bay\", \"Sears Holdings\", \"Meijer\", \"Army / Air Force Exchange\", \"J.C. Penney Co.\", \"CVS Caremark\", \"Nordstrom\", \"Trader Joe's\", \"Neiman Marcus\", \"Giant Eagle\"]"
   ]
  },
  {
   "cell_type": "code",
   "execution_count": 2,
   "metadata": {},
   "outputs": [
    {
     "data": {
      "text/plain": [
       "40"
      ]
     },
     "execution_count": 2,
     "metadata": {},
     "output_type": "execute_result"
    }
   ],
   "source": [
    "len(cats)"
   ]
  },
  {
   "cell_type": "code",
   "execution_count": null,
   "metadata": {},
   "outputs": [],
   "source": []
  }
 ],
 "metadata": {
  "kernelspec": {
   "display_name": "Python 3",
   "language": "python",
   "name": "python3"
  },
  "language_info": {
   "codemirror_mode": {
    "name": "ipython",
    "version": 3
   },
   "file_extension": ".py",
   "mimetype": "text/x-python",
   "name": "python",
   "nbconvert_exporter": "python",
   "pygments_lexer": "ipython3",
   "version": "3.6.3"
  }
 },
 "nbformat": 4,
 "nbformat_minor": 2
}
