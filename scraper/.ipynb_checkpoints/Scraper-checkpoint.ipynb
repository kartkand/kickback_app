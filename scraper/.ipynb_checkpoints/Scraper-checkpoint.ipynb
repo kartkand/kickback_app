{
 "cells": [
  {
   "cell_type": "code",
   "execution_count": 2,
   "metadata": {},
   "outputs": [],
   "source": [
    "import requests\n",
    "import json\n",
    "from bs4 import BeautifulSoup"
   ]
  },
  {
   "cell_type": "code",
   "execution_count": 3,
   "metadata": {},
   "outputs": [],
   "source": [
    "data = []\n",
    "with open('result.json') as f:\n",
    "        data = json.load(f)"
   ]
  },
  {
   "cell_type": "code",
   "execution_count": null,
   "metadata": {},
   "outputs": [],
   "source": [
    "url = \"https://www.retailmenot.com/coupons/food\""
   ]
  },
  {
   "cell_type": "code",
   "execution_count": null,
   "metadata": {},
   "outputs": [],
   "source": [
    "response = requests.get(url)\n",
    "if response.status_code != 200:\n",
    "    print(\"Unable to retrieve HTML\")"
   ]
  },
  {
   "cell_type": "code",
   "execution_count": null,
   "metadata": {},
   "outputs": [],
   "source": [
    "soup = BeautifulSoup(response.text, 'html.parser')"
   ]
  },
  {
   "cell_type": "code",
   "execution_count": null,
   "metadata": {},
   "outputs": [],
   "source": [
    "deals_container = soup.find('div', attrs={'class', 'tile__group'})"
   ]
  },
  {
   "cell_type": "code",
   "execution_count": null,
   "metadata": {},
   "outputs": [],
   "source": [
    "deals = deals_container.find_all('article', attrs={'class', 'tile'})"
   ]
  },
  {
   "cell_type": "code",
   "execution_count": null,
   "metadata": {},
   "outputs": [],
   "source": [
    "def next_space(idx, inp_str):\n",
    "    for i in range(idx, len(inp_str)):\n",
    "        if inp_str[i] == ' ':\n",
    "            return i\n",
    "    return len(inp_str)\n",
    "def prev_space(idx, inp_str):\n",
    "    for i in range(idx, -1, -1):\n",
    "        if inp_str[i] == ' ':\n",
    "            return i\n",
    "    return 0"
   ]
  },
  {
   "cell_type": "code",
   "execution_count": null,
   "metadata": {},
   "outputs": [],
   "source": [
    "def estimate_deal(description):\n",
    "    deal = {}\n",
    "    if '$' in description:\n",
    "        if \"off\" in description.lower() or \"credit\" in description.lower():\n",
    "            deal[\"type\"] = \"D\" #stands for deductible\n",
    "            starting_idx = description.find('$')+1\n",
    "            deal[\"amt\"] = float(description[starting_idx:next_space(starting_idx, description)])\n",
    "        else:\n",
    "            deal[\"type\"] = \"R\" #stands for reduced cost\n",
    "            starting_idx = description.find('$')+1\n",
    "            deal[\"amt\"] = float(description[starting_idx:next_space(starting_idx, description)])\n",
    "    elif 'free' in description.lower():\n",
    "        deal[\"type\"] = \"R\" #stands for cost\n",
    "        deal[\"amt\"] = 0\n",
    "    elif '%' in description:\n",
    "        deal[\"type\"] = \"P\" #stands for percent\n",
    "        starting_idx = description.find('%')\n",
    "        deal[\"amt\"] = float(description[prev_space(starting_idx, description):starting_idx])\n",
    "    else:\n",
    "        deal[\"type\"] = \"G\" #stands for general deal\n",
    "        deal[\"amt\"] = 0\n",
    "    return deal"
   ]
  },
  {
   "cell_type": "code",
   "execution_count": null,
   "metadata": {},
   "outputs": [],
   "source": [
    "all_deals = []\n",
    "for deal in deals:\n",
    "    deals_obj = {}\n",
    "    inner_container = deal.find('a')\n",
    "    if not inner_container.has_attr(\"class\") or not inner_container[\"class\"][0] == \"content\":\n",
    "        deals_obj[\"link\"] = \"https://www.myunidays.com\" + inner_container['href']\n",
    "        merchant_details = inner_container.find('div', attrs={'class': 'tile__inner'})\n",
    "        description = merchant_details.find('p', attrs={'class': 'tile__discount'})\n",
    "        deals_obj[\"description\"] = description.text\n",
    "        merchant = merchant_details.find('div', attrs={'class': 'tile__logo'}).find('img', attrs={'class': 'c-perk-logo'})[\"alt\"]\n",
    "        deals_obj[\"merchant\"] = merchant\n",
    "        deals_obj[\"category\"] = \"technology\"\n",
    "        deals_obj[\"deal_estimate\"] = estimate_deal(description.text)\n",
    "        all_deals.append(deals_obj)"
   ]
  },
  {
   "cell_type": "code",
   "execution_count": null,
   "metadata": {},
   "outputs": [],
   "source": [
    "all_deals"
   ]
  },
  {
   "cell_type": "code",
   "execution_count": null,
   "metadata": {},
   "outputs": [],
   "source": [
    "new_data = data + all_deals"
   ]
  },
  {
   "cell_type": "code",
   "execution_count": null,
   "metadata": {},
   "outputs": [],
   "source": [
    "with open('result.json', 'w') as fp:\n",
    "    json.dump(new_data, fp)"
   ]
  },
  {
   "cell_type": "code",
   "execution_count": null,
   "metadata": {},
   "outputs": [],
   "source": []
  },
  {
   "cell_type": "code",
   "execution_count": null,
   "metadata": {},
   "outputs": [],
   "source": []
  }
 ],
 "metadata": {
  "kernelspec": {
   "display_name": "Python 3",
   "language": "python",
   "name": "python3"
  },
  "language_info": {
   "codemirror_mode": {
    "name": "ipython",
    "version": 3
   },
   "file_extension": ".py",
   "mimetype": "text/x-python",
   "name": "python",
   "nbconvert_exporter": "python",
   "pygments_lexer": "ipython3",
   "version": "3.6.3"
  }
 },
 "nbformat": 4,
 "nbformat_minor": 2
}
